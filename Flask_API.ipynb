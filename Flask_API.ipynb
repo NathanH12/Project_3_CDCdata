{
 "cells": [
  {
   "cell_type": "code",
   "execution_count": 5,
   "metadata": {},
   "outputs": [],
   "source": [
    "#Importing dependencies \n",
    "\n",
    "from flask import Flask, jsonify, request\n",
    "from flask_cors import CORS\n",
    "from flask_pymongo import PyMongo\n",
    "import pymongo\n",
    "from bson.objectid import ObjectId\n",
    "from pymongo import MongoClient"
   ]
  },
  {
   "cell_type": "code",
   "execution_count": 6,
   "metadata": {},
   "outputs": [],
   "source": [
    "#connecting to the MongoDB server and creating the Flask\n",
    "conn = 'mongodb://localhost:27017'\n",
    "app = Flask(__name__)\n",
    "CORS(app)\n",
    "app.config['MONGO_URI'] = \"mongodb://localhost:27017/Project_3\"\n",
    "client = client = MongoClient(\"mongodb://localhost:27017/\")\n",
    "mongo = PyMongo(app)\n",
    "\n",
    "# connecting to the specific collection \n",
    "db= client[\"Project_3\"]\n",
    "Disease=db.Disease_db\n",
    "collection = db[\"Disease_db\"]"
   ]
  },
  {
   "cell_type": "code",
   "execution_count": 7,
   "metadata": {},
   "outputs": [],
   "source": [
    "#Listing available routes \n",
    "\n",
    "@app.route(\"/\")\n",
    "def welcome():\n",
    "    \"\"\"List all available api routes.\"\"\"\n",
    "    return (\n",
    "        f\"Available Routes:<br/>\"\n",
    "        f\"/Disease<br/>\"\n",
    "    )\n",
    "    "
   ]
  },
  {
   "cell_type": "code",
   "execution_count": 8,
   "metadata": {},
   "outputs": [
    {
     "name": "stdout",
     "output_type": "stream",
     "text": [
      " * Serving Flask app '__main__'\n",
      " * Debug mode: off\n"
     ]
    },
    {
     "name": "stderr",
     "output_type": "stream",
     "text": [
      "WARNING: This is a development server. Do not use it in a production deployment. Use a production WSGI server instead.\n",
      " * Running on http://127.0.0.1:8080\n",
      "Press CTRL+C to quit\n",
      "127.0.0.1 - - [02/Oct/2023 20:50:13] \"GET / HTTP/1.1\" 200 -\n",
      "127.0.0.1 - - [02/Oct/2023 20:50:48] \"GET /test_db_connection HTTP/1.1\" 200 -\n"
     ]
    }
   ],
   "source": [
    "#Testing API connection to database\n",
    "#/test_db_connection\n",
    "\n",
    "@app.route('/test_db_connection', methods=['GET'])\n",
    "def test_db_connection():\n",
    "    try:\n",
    "        # Try to fetch a document from the collection\n",
    "        result = Disease.find_one()\n",
    "        if result:\n",
    "            return \"Database connection is successful!\"\n",
    "        else:\n",
    "            return \"Failed to retrieve data from the database.\"\n",
    "    except Exception as e:\n",
    "        return f\"Error connecting to the database: {str(e)}\", 500  # Internal Server Error\n",
    "\n",
    "if __name__ == '__main__':\n",
    "    app.run(port=8080)"
   ]
  }
 ],
 "metadata": {
  "kernelspec": {
   "display_name": "dev",
   "language": "python",
   "name": "python3"
  },
  "language_info": {
   "codemirror_mode": {
    "name": "ipython",
    "version": 3
   },
   "file_extension": ".py",
   "mimetype": "text/x-python",
   "name": "python",
   "nbconvert_exporter": "python",
   "pygments_lexer": "ipython3",
   "version": "3.10.11"
  },
  "orig_nbformat": 4
 },
 "nbformat": 4,
 "nbformat_minor": 2
}
