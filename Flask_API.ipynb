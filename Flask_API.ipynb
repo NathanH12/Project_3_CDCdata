{
 "cells": [
  {
   "cell_type": "code",
   "execution_count": 2,
   "metadata": {},
   "outputs": [],
   "source": [
    "#Importing dependencies \n",
    "\n",
    "from flask import Flask, jsonify, request\n",
    "#from flask_cors import CORS\n",
    "from flask_pymongo import PyMongo\n",
    "#import pymongo\n",
    "from bson.objectid import ObjectId\n",
    "from pymongo import MongoClient"
   ]
  },
  {
   "cell_type": "code",
   "execution_count": 3,
   "metadata": {},
   "outputs": [],
   "source": [
    "#connecting to the MongoDB server and creating the Flask\n",
    "#conn = 'mongodb://localhost:27017'\n",
    "app = Flask(__name__)\n",
    "#CORS(app)\n",
    "app.config['MONGO_URI'] = \"mongodb://localhost:27017/Project_3\"\n",
    "client = MongoClient(\"mongodb://localhost:27017/\")\n",
    "mongo = PyMongo(app)\n",
    "\n",
    "# connecting to the specific collection \n",
    "db= client[\"Project_3\"]\n",
    "Disease=db.Disease_db\n",
    "collection = db[\"Disease_db\"]"
   ]
  },
  {
   "cell_type": "code",
   "execution_count": 8,
   "metadata": {},
   "outputs": [],
   "source": [
    "#Listing available routes \n",
    "\n",
    "@app.route(\"/\")\n",
    "def welcome():\n",
    "    \"\"\"List all available api routes.\"\"\"\n",
    "    return (\n",
    "        f\"Available Routes:<br/>\"\n",
    "        f\"/Disease<br/>\"\n",
    "    )\n",
    "    "
   ]
  }
 ],
 "metadata": {
  "kernelspec": {
   "display_name": "dev",
   "language": "python",
   "name": "python3"
  },
  "language_info": {
   "codemirror_mode": {
    "name": "ipython",
    "version": 3
   },
   "file_extension": ".py",
   "mimetype": "text/x-python",
   "name": "python",
   "nbconvert_exporter": "python",
   "pygments_lexer": "ipython3",
   "version": "3.10.12"
  },
  "orig_nbformat": 4
 },
 "nbformat": 4,
 "nbformat_minor": 2
}
